{
 "cells": [
  {
   "cell_type": "code",
   "execution_count": 7,
   "id": "0d58c574",
   "metadata": {},
   "outputs": [],
   "source": [
    "import pandas as pd\n",
    "import matplotlib.pyplot as plt\n",
    "from sklearn.linear_model import LinearRegression"
   ]
  },
  {
   "cell_type": "code",
   "execution_count": 8,
   "id": "982225b3",
   "metadata": {},
   "outputs": [
    {
     "data": {
      "text/html": [
       "<div>\n",
       "<style scoped>\n",
       "    .dataframe tbody tr th:only-of-type {\n",
       "        vertical-align: middle;\n",
       "    }\n",
       "\n",
       "    .dataframe tbody tr th {\n",
       "        vertical-align: top;\n",
       "    }\n",
       "\n",
       "    .dataframe thead th {\n",
       "        text-align: right;\n",
       "    }\n",
       "</style>\n",
       "<table border=\"1\" class=\"dataframe\">\n",
       "  <thead>\n",
       "    <tr style=\"text-align: right;\">\n",
       "      <th></th>\n",
       "      <th>Description</th>\n",
       "      <th>Days</th>\n",
       "      <th>Price</th>\n",
       "      <th>AvailableOn</th>\n",
       "      <th>Rating</th>\n",
       "      <th>Comment</th>\n",
       "    </tr>\n",
       "  </thead>\n",
       "  <tbody>\n",
       "    <tr>\n",
       "      <th>0</th>\n",
       "      <td>POCO M4 Pro (Cool Blue, 128 GB)</td>\n",
       "      <td>1.0</td>\n",
       "      <td>12945.0</td>\n",
       "      <td>Amazon</td>\n",
       "      <td>5</td>\n",
       "      <td>Nice Mobile Phone But I Want 5G Phone But Hurr...</td>\n",
       "    </tr>\n",
       "    <tr>\n",
       "      <th>1</th>\n",
       "      <td>8 GB RAM | 128 GB ROM | Expandable Upto 1 TB</td>\n",
       "      <td>2.0</td>\n",
       "      <td>13099.0</td>\n",
       "      <td>Flipkart</td>\n",
       "      <td>4</td>\n",
       "      <td>Worth for you pay. Good Ram, speed &amp; no glitch...</td>\n",
       "    </tr>\n",
       "    <tr>\n",
       "      <th>2</th>\n",
       "      <td>16.33 cm (6.43 inch) Full HD+ AMOLED Display</td>\n",
       "      <td>3.0</td>\n",
       "      <td>12610.0</td>\n",
       "      <td>Amazon</td>\n",
       "      <td>5</td>\n",
       "      <td>The whole phone awesome for this budget. It ge...</td>\n",
       "    </tr>\n",
       "    <tr>\n",
       "      <th>3</th>\n",
       "      <td>64MP + 8MP + 2MP | 16MP Front Camera</td>\n",
       "      <td>4.0</td>\n",
       "      <td>14627.0</td>\n",
       "      <td>Amazon</td>\n",
       "      <td>4</td>\n",
       "      <td>After too many review I have finally choose th...</td>\n",
       "    </tr>\n",
       "    <tr>\n",
       "      <th>4</th>\n",
       "      <td>5000 mAh Lithium-ion Polymer Battery</td>\n",
       "      <td>5.0</td>\n",
       "      <td>13706.0</td>\n",
       "      <td>Amazon</td>\n",
       "      <td>4</td>\n",
       "      <td>Performance is good but have some hitting issu...</td>\n",
       "    </tr>\n",
       "    <tr>\n",
       "      <th>...</th>\n",
       "      <td>...</td>\n",
       "      <td>...</td>\n",
       "      <td>...</td>\n",
       "      <td>...</td>\n",
       "      <td>...</td>\n",
       "      <td>...</td>\n",
       "    </tr>\n",
       "    <tr>\n",
       "      <th>376</th>\n",
       "      <td>NaN</td>\n",
       "      <td>NaN</td>\n",
       "      <td>NaN</td>\n",
       "      <td>NaN</td>\n",
       "      <td>4</td>\n",
       "      <td>The mobile was awesome,but when I put charging...</td>\n",
       "    </tr>\n",
       "    <tr>\n",
       "      <th>377</th>\n",
       "      <td>NaN</td>\n",
       "      <td>NaN</td>\n",
       "      <td>NaN</td>\n",
       "      <td>NaN</td>\n",
       "      <td>5</td>\n",
       "      <td>Super</td>\n",
       "    </tr>\n",
       "    <tr>\n",
       "      <th>378</th>\n",
       "      <td>NaN</td>\n",
       "      <td>NaN</td>\n",
       "      <td>NaN</td>\n",
       "      <td>NaN</td>\n",
       "      <td>5</td>\n",
       "      <td>Excellent</td>\n",
       "    </tr>\n",
       "    <tr>\n",
       "      <th>379</th>\n",
       "      <td>NaN</td>\n",
       "      <td>NaN</td>\n",
       "      <td>NaN</td>\n",
       "      <td>NaN</td>\n",
       "      <td>5</td>\n",
       "      <td>The best phone in budget.</td>\n",
       "    </tr>\n",
       "    <tr>\n",
       "      <th>380</th>\n",
       "      <td>NaN</td>\n",
       "      <td>NaN</td>\n",
       "      <td>NaN</td>\n",
       "      <td>NaN</td>\n",
       "      <td>1</td>\n",
       "      <td>Very poor don't buy</td>\n",
       "    </tr>\n",
       "  </tbody>\n",
       "</table>\n",
       "<p>381 rows × 6 columns</p>\n",
       "</div>"
      ],
      "text/plain": [
       "                                      Description  Days    Price AvailableOn   \n",
       "0                 POCO M4 Pro (Cool Blue, 128 GB)   1.0  12945.0      Amazon  \\\n",
       "1    8 GB RAM | 128 GB ROM | Expandable Upto 1 TB   2.0  13099.0    Flipkart   \n",
       "2    16.33 cm (6.43 inch) Full HD+ AMOLED Display   3.0  12610.0      Amazon   \n",
       "3            64MP + 8MP + 2MP | 16MP Front Camera   4.0  14627.0      Amazon   \n",
       "4            5000 mAh Lithium-ion Polymer Battery   5.0  13706.0      Amazon   \n",
       "..                                            ...   ...      ...         ...   \n",
       "376                                           NaN   NaN      NaN         NaN   \n",
       "377                                           NaN   NaN      NaN         NaN   \n",
       "378                                           NaN   NaN      NaN         NaN   \n",
       "379                                           NaN   NaN      NaN         NaN   \n",
       "380                                           NaN   NaN      NaN         NaN   \n",
       "\n",
       "     Rating                                            Comment  \n",
       "0         5  Nice Mobile Phone But I Want 5G Phone But Hurr...  \n",
       "1         4  Worth for you pay. Good Ram, speed & no glitch...  \n",
       "2         5  The whole phone awesome for this budget. It ge...  \n",
       "3         4  After too many review I have finally choose th...  \n",
       "4         4  Performance is good but have some hitting issu...  \n",
       "..      ...                                                ...  \n",
       "376       4  The mobile was awesome,but when I put charging...  \n",
       "377       5                                              Super  \n",
       "378       5                                          Excellent  \n",
       "379       5                          The best phone in budget.  \n",
       "380       1                                Very poor don't buy  \n",
       "\n",
       "[381 rows x 6 columns]"
      ]
     },
     "execution_count": 8,
     "metadata": {},
     "output_type": "execute_result"
    }
   ],
   "source": [
    "# Load the dataset\n",
    "df=pd.read_csv('E:\\Price_Predictorrr-main\\Price_Predictorrr-main\\mobile.csv')\n",
    "df"
   ]
  },
  {
   "cell_type": "code",
   "execution_count": 9,
   "id": "7862513d",
   "metadata": {},
   "outputs": [
    {
     "name": "stdout",
     "output_type": "stream",
     "text": [
      "Description    375\n",
      "Days            16\n",
      "Price           16\n",
      "AvailableOn     16\n",
      "Rating           0\n",
      "Comment          0\n",
      "dtype: int64\n",
      "           Days         Price    Rating\n",
      "count  6.000000      6.000000  6.000000\n",
      "mean   3.500000  13805.166667  4.500000\n",
      "std    1.870829   1225.484952  0.547723\n",
      "min    1.000000  12610.000000  4.000000\n",
      "25%    2.250000  12983.500000  4.000000\n",
      "50%    3.500000  13402.500000  4.500000\n",
      "75%    4.750000  14396.750000  5.000000\n",
      "max    6.000000  15844.000000  5.000000\n"
     ]
    }
   ],
   "source": [
    "# Check for missing values\n",
    "print(df.isnull().sum())\n",
    "\n",
    "# Remove rows with missing values\n",
    "df = df.dropna()\n",
    "\n",
    "# Check for invalid values\n",
    "print(df.describe())\n",
    "\n",
    "# Remove rows with extremely large or invalid values\n",
    "df = df[df['Price'] < 1e6]  # Adjust the threshold value as per your dataset\n"
   ]
  },
  {
   "cell_type": "code",
   "execution_count": 10,
   "id": "fc2b48bb",
   "metadata": {},
   "outputs": [],
   "source": [
    "# Prepare the data\n",
    "X = df['Days'].values.reshape(-1, 1)\n",
    "y = df['Price'].values.reshape(-1, 1)\n",
    "description = df['Description']\n",
    "rating = df['Rating']\n",
    "comment = df['Comment']\n",
    "available_on = df['AvailableOn']"
   ]
  },
  {
   "cell_type": "code",
   "execution_count": 11,
   "id": "c6ff419c",
   "metadata": {},
   "outputs": [],
   "source": [
    "# Create the linear regression model\n",
    "model = LinearRegression()"
   ]
  },
  {
   "cell_type": "code",
   "execution_count": 12,
   "id": "e2fcd1a1",
   "metadata": {},
   "outputs": [
    {
     "data": {
      "text/html": [
       "<style>#sk-container-id-1 {color: black;background-color: white;}#sk-container-id-1 pre{padding: 0;}#sk-container-id-1 div.sk-toggleable {background-color: white;}#sk-container-id-1 label.sk-toggleable__label {cursor: pointer;display: block;width: 100%;margin-bottom: 0;padding: 0.3em;box-sizing: border-box;text-align: center;}#sk-container-id-1 label.sk-toggleable__label-arrow:before {content: \"▸\";float: left;margin-right: 0.25em;color: #696969;}#sk-container-id-1 label.sk-toggleable__label-arrow:hover:before {color: black;}#sk-container-id-1 div.sk-estimator:hover label.sk-toggleable__label-arrow:before {color: black;}#sk-container-id-1 div.sk-toggleable__content {max-height: 0;max-width: 0;overflow: hidden;text-align: left;background-color: #f0f8ff;}#sk-container-id-1 div.sk-toggleable__content pre {margin: 0.2em;color: black;border-radius: 0.25em;background-color: #f0f8ff;}#sk-container-id-1 input.sk-toggleable__control:checked~div.sk-toggleable__content {max-height: 200px;max-width: 100%;overflow: auto;}#sk-container-id-1 input.sk-toggleable__control:checked~label.sk-toggleable__label-arrow:before {content: \"▾\";}#sk-container-id-1 div.sk-estimator input.sk-toggleable__control:checked~label.sk-toggleable__label {background-color: #d4ebff;}#sk-container-id-1 div.sk-label input.sk-toggleable__control:checked~label.sk-toggleable__label {background-color: #d4ebff;}#sk-container-id-1 input.sk-hidden--visually {border: 0;clip: rect(1px 1px 1px 1px);clip: rect(1px, 1px, 1px, 1px);height: 1px;margin: -1px;overflow: hidden;padding: 0;position: absolute;width: 1px;}#sk-container-id-1 div.sk-estimator {font-family: monospace;background-color: #f0f8ff;border: 1px dotted black;border-radius: 0.25em;box-sizing: border-box;margin-bottom: 0.5em;}#sk-container-id-1 div.sk-estimator:hover {background-color: #d4ebff;}#sk-container-id-1 div.sk-parallel-item::after {content: \"\";width: 100%;border-bottom: 1px solid gray;flex-grow: 1;}#sk-container-id-1 div.sk-label:hover label.sk-toggleable__label {background-color: #d4ebff;}#sk-container-id-1 div.sk-serial::before {content: \"\";position: absolute;border-left: 1px solid gray;box-sizing: border-box;top: 0;bottom: 0;left: 50%;z-index: 0;}#sk-container-id-1 div.sk-serial {display: flex;flex-direction: column;align-items: center;background-color: white;padding-right: 0.2em;padding-left: 0.2em;position: relative;}#sk-container-id-1 div.sk-item {position: relative;z-index: 1;}#sk-container-id-1 div.sk-parallel {display: flex;align-items: stretch;justify-content: center;background-color: white;position: relative;}#sk-container-id-1 div.sk-item::before, #sk-container-id-1 div.sk-parallel-item::before {content: \"\";position: absolute;border-left: 1px solid gray;box-sizing: border-box;top: 0;bottom: 0;left: 50%;z-index: -1;}#sk-container-id-1 div.sk-parallel-item {display: flex;flex-direction: column;z-index: 1;position: relative;background-color: white;}#sk-container-id-1 div.sk-parallel-item:first-child::after {align-self: flex-end;width: 50%;}#sk-container-id-1 div.sk-parallel-item:last-child::after {align-self: flex-start;width: 50%;}#sk-container-id-1 div.sk-parallel-item:only-child::after {width: 0;}#sk-container-id-1 div.sk-dashed-wrapped {border: 1px dashed gray;margin: 0 0.4em 0.5em 0.4em;box-sizing: border-box;padding-bottom: 0.4em;background-color: white;}#sk-container-id-1 div.sk-label label {font-family: monospace;font-weight: bold;display: inline-block;line-height: 1.2em;}#sk-container-id-1 div.sk-label-container {text-align: center;}#sk-container-id-1 div.sk-container {/* jupyter's `normalize.less` sets `[hidden] { display: none; }` but bootstrap.min.css set `[hidden] { display: none !important; }` so we also need the `!important` here to be able to override the default hidden behavior on the sphinx rendered scikit-learn.org. See: https://github.com/scikit-learn/scikit-learn/issues/21755 */display: inline-block !important;position: relative;}#sk-container-id-1 div.sk-text-repr-fallback {display: none;}</style><div id=\"sk-container-id-1\" class=\"sk-top-container\"><div class=\"sk-text-repr-fallback\"><pre>LinearRegression()</pre><b>In a Jupyter environment, please rerun this cell to show the HTML representation or trust the notebook. <br />On GitHub, the HTML representation is unable to render, please try loading this page with nbviewer.org.</b></div><div class=\"sk-container\" hidden><div class=\"sk-item\"><div class=\"sk-estimator sk-toggleable\"><input class=\"sk-toggleable__control sk-hidden--visually\" id=\"sk-estimator-id-1\" type=\"checkbox\" checked><label for=\"sk-estimator-id-1\" class=\"sk-toggleable__label sk-toggleable__label-arrow\">LinearRegression</label><div class=\"sk-toggleable__content\"><pre>LinearRegression()</pre></div></div></div></div></div>"
      ],
      "text/plain": [
       "LinearRegression()"
      ]
     },
     "execution_count": 12,
     "metadata": {},
     "output_type": "execute_result"
    }
   ],
   "source": [
    "# Fit the model to the data\n",
    "model.fit(X, y)"
   ]
  },
  {
   "cell_type": "code",
   "execution_count": 13,
   "id": "5038e2ff",
   "metadata": {},
   "outputs": [],
   "source": [
    "# Predict the prices for the given days\n",
    "predicted_prices = model.predict(X)"
   ]
  },
  {
   "cell_type": "code",
   "execution_count": 14,
   "id": "1b7f18a2",
   "metadata": {},
   "outputs": [
    {
     "name": "stdout",
     "output_type": "stream",
     "text": [
      "Best price: 12610.0 on day 3.0\n",
      "Description:  16.33 cm (6.43 inch) Full HD+ AMOLED Display\n",
      "Review:  The whole phone awesome for this budget. It gets everything you need for a daily day. It suits gaming in good way. It's 8gb + 3gb extension memory. I am satisfied with the product.\n",
      "Rating:  5\n",
      "Available On:  Amazon\n"
     ]
    }
   ],
   "source": [
    "# Find the best price and corresponding day\n",
    "best_price_index = y.argmin()\n",
    "best_day = X[best_price_index][0]\n",
    "best_price = y[best_price_index][0]\n",
    "best_description = description[best_price_index]\n",
    "best_available_on = available_on[best_price_index]\n",
    "\n",
    "# Check if the description is NaN, if so, fallback to the first line description\n",
    "if pd.isnull(best_description):\n",
    "    best_description = description.iloc[0]\n",
    "\n",
    "best_review = comment[best_price_index]\n",
    "best_rating = rating[best_price_index]\n",
    "\n",
    "print(\"Best price: {} on day {}\".format(best_price, best_day))\n",
    "print(\"Description: \", best_description)\n",
    "print(\"Review: \", best_review)\n",
    "print(\"Rating: \", best_rating)\n",
    "print(\"Available On: \", best_available_on)"
   ]
  },
  {
   "cell_type": "code",
   "execution_count": 15,
   "id": "dc3a1556",
   "metadata": {},
   "outputs": [
    {
     "data": {
      "image/png": "[encoded data removed]",
      "text/plain": [
       "<Figure size 800x600 with 1 Axes>"
      ]
     },
     "metadata": {},
     "output_type": "display_data"
    },
    {
     "name": "stdout",
     "output_type": "stream",
     "text": [
      "[[142921.86666667]]\n"
     ]
    }
   ],
   "source": [
    "# Plot the data and the predicted prices\n",
    "plt.figure(figsize=(8, 6))\n",
    "plt.scatter(X, y, label='Data')\n",
    "plt.plot(X, predicted_prices, color='red', label='Predictions')\n",
    "plt.ylim(0, 60000)\n",
    "plt.xlabel('Day')\n",
    "plt.ylabel('Price')\n",
    "plt.legend()\n",
    "plt.title('Price Prediction with Description and Reviews')\n",
    "plt.show()\n",
    "\n",
    "print(model.predict([[250]]))"
   ]
  },
  {
   "cell_type": "code",
   "execution_count": null,
   "id": "3509233f",
   "metadata": {},
   "outputs": [],
   "source": [
    "import pickle\n",
    "\n",
    "# Save the trained model\n",
    "pickle.dump(model, open('mobile.sav', 'wb'))\n"
   ]
  }
 ],
 "metadata": {
  "kernelspec": {
   "display_name": "Python 3 (ipykernel)",
   "language": "python",
   "name": "python3"
  },
  "language_info": {
   "codemirror_mode": {
    "name": "ipython",
    "version": 3
   },
   "file_extension": ".py",
   "mimetype": "text/x-python",
   "name": "python",
   "nbconvert_exporter": "python",
   "pygments_lexer": "ipython3",
   "version": "3.11.2"
  }
 },
 "nbformat": 4,
 "nbformat_minor": 5
}
