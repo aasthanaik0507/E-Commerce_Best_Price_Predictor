{
 "cells": [
  {
   "cell_type": "code",
   "execution_count": 3,
   "id": "0d58c574",
   "metadata": {},
   "outputs": [],
   "source": [
    "import pandas as pd\n",
    "import matplotlib.pyplot as plt\n",
    "from sklearn.linear_model import LinearRegression"
   ]
  },
  {
   "cell_type": "code",
   "execution_count": 5,
   "id": "982225b3",
   "metadata": {},
   "outputs": [
    {
     "data": {
      "text/html": [
       "<div>\n",
       "<style scoped>\n",
       "    .dataframe tbody tr th:only-of-type {\n",
       "        vertical-align: middle;\n",
       "    }\n",
       "\n",
       "    .dataframe tbody tr th {\n",
       "        vertical-align: top;\n",
       "    }\n",
       "\n",
       "    .dataframe thead th {\n",
       "        text-align: right;\n",
       "    }\n",
       "</style>\n",
       "<table border=\"1\" class=\"dataframe\">\n",
       "  <thead>\n",
       "    <tr style=\"text-align: right;\">\n",
       "      <th></th>\n",
       "      <th>Description</th>\n",
       "      <th>Days</th>\n",
       "      <th>Price</th>\n",
       "      <th>AvailableOn</th>\n",
       "      <th>Rating</th>\n",
       "      <th>Comment</th>\n",
       "    </tr>\n",
       "  </thead>\n",
       "  <tbody>\n",
       "    <tr>\n",
       "      <th>0</th>\n",
       "      <td>Flipkart Perfect Homes Riobo Engineered Wood T...</td>\n",
       "      <td>1.0</td>\n",
       "      <td>4507.0</td>\n",
       "      <td>Flipkart</td>\n",
       "      <td>5</td>\n",
       "      <td>thank you very much flipkart sUuuuuuuper dinin...</td>\n",
       "    </tr>\n",
       "    <tr>\n",
       "      <th>1</th>\n",
       "      <td>Material: Particle Board</td>\n",
       "      <td>2.0</td>\n",
       "      <td>4987.0</td>\n",
       "      <td>Flipkart</td>\n",
       "      <td>5</td>\n",
       "      <td>Compact yet spacious as you sit on corners, so...</td>\n",
       "    </tr>\n",
       "    <tr>\n",
       "      <th>2</th>\n",
       "      <td>W x H x D: 120 cm x 45 cm x 39.5 cm (3 ft 11 i...</td>\n",
       "      <td>3.0</td>\n",
       "      <td>4255.0</td>\n",
       "      <td>Flipkart</td>\n",
       "      <td>5</td>\n",
       "      <td>beyond expectation.superb thanks flipkart to h...</td>\n",
       "    </tr>\n",
       "    <tr>\n",
       "      <th>3</th>\n",
       "      <td>Ideal TV Size: 43 inch</td>\n",
       "      <td>4.0</td>\n",
       "      <td>4494.0</td>\n",
       "      <td>Amazon</td>\n",
       "      <td>5</td>\n",
       "      <td>perfect dining table for a small family. the d...</td>\n",
       "    </tr>\n",
       "    <tr>\n",
       "      <th>4</th>\n",
       "      <td>Number of Drawers: 0, Number of Open Shelves: ...</td>\n",
       "      <td>5.0</td>\n",
       "      <td>4178.0</td>\n",
       "      <td>Amazon</td>\n",
       "      <td>4</td>\n",
       "      <td>i am giving this r view after mostly 1 month o...</td>\n",
       "    </tr>\n",
       "    <tr>\n",
       "      <th>...</th>\n",
       "      <td>...</td>\n",
       "      <td>...</td>\n",
       "      <td>...</td>\n",
       "      <td>...</td>\n",
       "      <td>...</td>\n",
       "      <td>...</td>\n",
       "    </tr>\n",
       "    <tr>\n",
       "      <th>415</th>\n",
       "      <td>NaN</td>\n",
       "      <td>NaN</td>\n",
       "      <td>NaN</td>\n",
       "      <td>NaN</td>\n",
       "      <td>5</td>\n",
       "      <td>price worthy</td>\n",
       "    </tr>\n",
       "    <tr>\n",
       "      <th>416</th>\n",
       "      <td>NaN</td>\n",
       "      <td>NaN</td>\n",
       "      <td>NaN</td>\n",
       "      <td>NaN</td>\n",
       "      <td>3</td>\n",
       "      <td>finishing is good but the door hand is local p...</td>\n",
       "    </tr>\n",
       "    <tr>\n",
       "      <th>417</th>\n",
       "      <td>NaN</td>\n",
       "      <td>NaN</td>\n",
       "      <td>NaN</td>\n",
       "      <td>NaN</td>\n",
       "      <td>5</td>\n",
       "      <td>service very good, Good Item, very usable product</td>\n",
       "    </tr>\n",
       "    <tr>\n",
       "      <th>418</th>\n",
       "      <td>NaN</td>\n",
       "      <td>NaN</td>\n",
       "      <td>NaN</td>\n",
       "      <td>NaN</td>\n",
       "      <td>3</td>\n",
       "      <td>Product is good but installation not done on t...</td>\n",
       "    </tr>\n",
       "    <tr>\n",
       "      <th>419</th>\n",
       "      <td>NaN</td>\n",
       "      <td>NaN</td>\n",
       "      <td>NaN</td>\n",
       "      <td>NaN</td>\n",
       "      <td>5</td>\n",
       "      <td>Product is very gud i m happy from this.And th...</td>\n",
       "    </tr>\n",
       "  </tbody>\n",
       "</table>\n",
       "<p>420 rows × 6 columns</p>\n",
       "</div>"
      ],
      "text/plain": [
       "                                           Description  Days   Price   \n",
       "0    Flipkart Perfect Homes Riobo Engineered Wood T...   1.0  4507.0  \\\n",
       "1                             Material: Particle Board   2.0  4987.0   \n",
       "2    W x H x D: 120 cm x 45 cm x 39.5 cm (3 ft 11 i...   3.0  4255.0   \n",
       "3                               Ideal TV Size: 43 inch   4.0  4494.0   \n",
       "4    Number of Drawers: 0, Number of Open Shelves: ...   5.0  4178.0   \n",
       "..                                                 ...   ...     ...   \n",
       "415                                                NaN   NaN     NaN   \n",
       "416                                                NaN   NaN     NaN   \n",
       "417                                                NaN   NaN     NaN   \n",
       "418                                                NaN   NaN     NaN   \n",
       "419                                                NaN   NaN     NaN   \n",
       "\n",
       "    AvailableOn  Rating                                            Comment  \n",
       "0      Flipkart       5  thank you very much flipkart sUuuuuuuper dinin...  \n",
       "1      Flipkart       5  Compact yet spacious as you sit on corners, so...  \n",
       "2      Flipkart       5  beyond expectation.superb thanks flipkart to h...  \n",
       "3        Amazon       5  perfect dining table for a small family. the d...  \n",
       "4        Amazon       4  i am giving this r view after mostly 1 month o...  \n",
       "..          ...     ...                                                ...  \n",
       "415         NaN       5                                       price worthy  \n",
       "416         NaN       3  finishing is good but the door hand is local p...  \n",
       "417         NaN       5  service very good, Good Item, very usable product  \n",
       "418         NaN       3  Product is good but installation not done on t...  \n",
       "419         NaN       5  Product is very gud i m happy from this.And th...  \n",
       "\n",
       "[420 rows x 6 columns]"
      ]
     },
     "execution_count": 5,
     "metadata": {},
     "output_type": "execute_result"
    }
   ],
   "source": [
    "# Load the dataset\n",
    "df=pd.read_csv('E:\\Price_Predictorrr-main\\Price_Predictorrr-main\\lgtv.csv')\n",
    "df\n"
   ]
  },
  {
   "cell_type": "code",
   "execution_count": 6,
   "id": "8e2a6428",
   "metadata": {},
   "outputs": [
    {
     "name": "stdout",
     "output_type": "stream",
     "text": [
      "Description    414\n",
      "Days            55\n",
      "Price           55\n",
      "AvailableOn     55\n",
      "Rating           0\n",
      "Comment          0\n",
      "dtype: int64\n",
      "           Days       Price    Rating\n",
      "count  6.000000     6.00000  6.000000\n",
      "mean   3.500000  4503.50000  4.833333\n",
      "std    1.870829   286.66688  0.408248\n",
      "min    1.000000  4178.00000  4.000000\n",
      "25%    2.250000  4314.75000  5.000000\n",
      "50%    3.500000  4500.50000  5.000000\n",
      "75%    4.750000  4576.75000  5.000000\n",
      "max    6.000000  4987.00000  5.000000\n"
     ]
    }
   ],
   "source": [
    "# Check for missing values\n",
    "print(df.isnull().sum())\n",
    "\n",
    "# Remove rows with missing values\n",
    "df = df.dropna()\n",
    "\n",
    "# Check for invalid values\n",
    "print(df.describe())\n",
    "\n",
    "# Remove rows with extremely large or invalid values\n",
    "df = df[df['Price'] < 1e6]  # Adjust the threshold value as per your dataset"
   ]
  },
  {
   "cell_type": "code",
   "execution_count": 8,
   "id": "fc2b48bb",
   "metadata": {},
   "outputs": [],
   "source": [
    "# Prepare the data\n",
    "X = df['Days'].values.reshape(-1, 1)\n",
    "y = df['Price'].values.reshape(-1, 1)\n",
    "description = df['Description']\n",
    "rating = df['Rating']\n",
    "comment = df['Comment']\n",
    "available_on = df['AvailableOn']"
   ]
  },
  {
   "cell_type": "code",
   "execution_count": 9,
   "id": "c6ff419c",
   "metadata": {},
   "outputs": [],
   "source": [
    "# Create the linear regression model\n",
    "model = LinearRegression()"
   ]
  },
  {
   "cell_type": "code",
   "execution_count": 10,
   "id": "e2fcd1a1",
   "metadata": {},
   "outputs": [
    {
     "data": {
      "text/html": [
       "<style>#sk-container-id-1 {color: black;background-color: white;}#sk-container-id-1 pre{padding: 0;}#sk-container-id-1 div.sk-toggleable {background-color: white;}#sk-container-id-1 label.sk-toggleable__label {cursor: pointer;display: block;width: 100%;margin-bottom: 0;padding: 0.3em;box-sizing: border-box;text-align: center;}#sk-container-id-1 label.sk-toggleable__label-arrow:before {content: \"▸\";float: left;margin-right: 0.25em;color: #696969;}#sk-container-id-1 label.sk-toggleable__label-arrow:hover:before {color: black;}#sk-container-id-1 div.sk-estimator:hover label.sk-toggleable__label-arrow:before {color: black;}#sk-container-id-1 div.sk-toggleable__content {max-height: 0;max-width: 0;overflow: hidden;text-align: left;background-color: #f0f8ff;}#sk-container-id-1 div.sk-toggleable__content pre {margin: 0.2em;color: black;border-radius: 0.25em;background-color: #f0f8ff;}#sk-container-id-1 input.sk-toggleable__control:checked~div.sk-toggleable__content {max-height: 200px;max-width: 100%;overflow: auto;}#sk-container-id-1 input.sk-toggleable__control:checked~label.sk-toggleable__label-arrow:before {content: \"▾\";}#sk-container-id-1 div.sk-estimator input.sk-toggleable__control:checked~label.sk-toggleable__label {background-color: #d4ebff;}#sk-container-id-1 div.sk-label input.sk-toggleable__control:checked~label.sk-toggleable__label {background-color: #d4ebff;}#sk-container-id-1 input.sk-hidden--visually {border: 0;clip: rect(1px 1px 1px 1px);clip: rect(1px, 1px, 1px, 1px);height: 1px;margin: -1px;overflow: hidden;padding: 0;position: absolute;width: 1px;}#sk-container-id-1 div.sk-estimator {font-family: monospace;background-color: #f0f8ff;border: 1px dotted black;border-radius: 0.25em;box-sizing: border-box;margin-bottom: 0.5em;}#sk-container-id-1 div.sk-estimator:hover {background-color: #d4ebff;}#sk-container-id-1 div.sk-parallel-item::after {content: \"\";width: 100%;border-bottom: 1px solid gray;flex-grow: 1;}#sk-container-id-1 div.sk-label:hover label.sk-toggleable__label {background-color: #d4ebff;}#sk-container-id-1 div.sk-serial::before {content: \"\";position: absolute;border-left: 1px solid gray;box-sizing: border-box;top: 0;bottom: 0;left: 50%;z-index: 0;}#sk-container-id-1 div.sk-serial {display: flex;flex-direction: column;align-items: center;background-color: white;padding-right: 0.2em;padding-left: 0.2em;position: relative;}#sk-container-id-1 div.sk-item {position: relative;z-index: 1;}#sk-container-id-1 div.sk-parallel {display: flex;align-items: stretch;justify-content: center;background-color: white;position: relative;}#sk-container-id-1 div.sk-item::before, #sk-container-id-1 div.sk-parallel-item::before {content: \"\";position: absolute;border-left: 1px solid gray;box-sizing: border-box;top: 0;bottom: 0;left: 50%;z-index: -1;}#sk-container-id-1 div.sk-parallel-item {display: flex;flex-direction: column;z-index: 1;position: relative;background-color: white;}#sk-container-id-1 div.sk-parallel-item:first-child::after {align-self: flex-end;width: 50%;}#sk-container-id-1 div.sk-parallel-item:last-child::after {align-self: flex-start;width: 50%;}#sk-container-id-1 div.sk-parallel-item:only-child::after {width: 0;}#sk-container-id-1 div.sk-dashed-wrapped {border: 1px dashed gray;margin: 0 0.4em 0.5em 0.4em;box-sizing: border-box;padding-bottom: 0.4em;background-color: white;}#sk-container-id-1 div.sk-label label {font-family: monospace;font-weight: bold;display: inline-block;line-height: 1.2em;}#sk-container-id-1 div.sk-label-container {text-align: center;}#sk-container-id-1 div.sk-container {/* jupyter's `normalize.less` sets `[hidden] { display: none; }` but bootstrap.min.css set `[hidden] { display: none !important; }` so we also need the `!important` here to be able to override the default hidden behavior on the sphinx rendered scikit-learn.org. See: https://github.com/scikit-learn/scikit-learn/issues/21755 */display: inline-block !important;position: relative;}#sk-container-id-1 div.sk-text-repr-fallback {display: none;}</style><div id=\"sk-container-id-1\" class=\"sk-top-container\"><div class=\"sk-text-repr-fallback\"><pre>LinearRegression()</pre><b>In a Jupyter environment, please rerun this cell to show the HTML representation or trust the notebook. <br />On GitHub, the HTML representation is unable to render, please try loading this page with nbviewer.org.</b></div><div class=\"sk-container\" hidden><div class=\"sk-item\"><div class=\"sk-estimator sk-toggleable\"><input class=\"sk-toggleable__control sk-hidden--visually\" id=\"sk-estimator-id-1\" type=\"checkbox\" checked><label for=\"sk-estimator-id-1\" class=\"sk-toggleable__label sk-toggleable__label-arrow\">LinearRegression</label><div class=\"sk-toggleable__content\"><pre>LinearRegression()</pre></div></div></div></div></div>"
      ],
      "text/plain": [
       "LinearRegression()"
      ]
     },
     "execution_count": 10,
     "metadata": {},
     "output_type": "execute_result"
    }
   ],
   "source": [
    "# Fit the model to the data\n",
    "model.fit(X, y)\n"
   ]
  },
  {
   "cell_type": "code",
   "execution_count": 11,
   "id": "5038e2ff",
   "metadata": {},
   "outputs": [],
   "source": [
    "# Predict the prices for the given days\n",
    "predicted_prices = model.predict(X)"
   ]
  },
  {
   "cell_type": "code",
   "execution_count": 12,
   "id": "83cd87dc",
   "metadata": {},
   "outputs": [
    {
     "name": "stdout",
     "output_type": "stream",
     "text": [
      "Best price: 4178.0 on day 5.0\n",
      "Description:  Number of Drawers: 0, Number of Open Shelves: 6, Number of Closed Shelves: 2\n",
      "Review:  i am giving this r view after mostly 1 month of review. chairs are not sturdy i r ad in most of the review and saw that these are not capable of taking over 90kg of weight but as per my personal experience these can bear 100-110 kg of weight and these are sturdy but these are of less foam in seating area. so not comfortable for long seat. but table's glass is good in look wise but expected more thick as compared to pricing. table is not sturdy as it is tilting even after proper fitting. we ha.\n",
      "Rating:  4\n",
      "Available On:  Amazon\n"
     ]
    }
   ],
   "source": [
    "# Find the best price and corresponding day\n",
    "best_price_index = y.argmin()\n",
    "best_day = X[best_price_index][0]\n",
    "best_price = y[best_price_index][0]\n",
    "best_description = description[best_price_index]\n",
    "best_available_on = available_on[best_price_index]\n",
    "\n",
    "# Check if the description is NaN, if so, fallback to the first line description\n",
    "if pd.isnull(best_description):\n",
    "    best_description = description.iloc[0]\n",
    "\n",
    "best_review = comment[best_price_index]\n",
    "best_rating = rating[best_price_index]\n",
    "\n",
    "print(\"Best price: {} on day {}\".format(best_price, best_day))\n",
    "print(\"Description: \", best_description)\n",
    "print(\"Review: \", best_review)\n",
    "print(\"Rating: \", best_rating)\n",
    "print(\"Available On: \", best_available_on)"
   ]
  },
  {
   "cell_type": "code",
   "execution_count": 13,
   "id": "dc3a1556",
   "metadata": {},
   "outputs": [
    {
     "data": {
      "image/png": "[encoded data removed]",
      "text/plain": [
       "<Figure size 800x600 with 1 Axes>"
      ]
     },
     "metadata": {},
     "output_type": "display_data"
    },
    {
     "name": "stdout",
     "output_type": "stream",
     "text": [
      "[[-7631.34285714]]\n"
     ]
    }
   ],
   "source": [
    "# Plot the data and the predicted prices\n",
    "plt.figure(figsize=(8, 6))\n",
    "plt.scatter(X, y, label='Data')\n",
    "plt.plot(X, predicted_prices, color='red', label='Predictions')\n",
    "plt.ylim(0, 60000)\n",
    "plt.xlabel('Day')\n",
    "plt.ylabel('Price')\n",
    "plt.legend()\n",
    "plt.title('Price Prediction with Description and Reviews')\n",
    "plt.show()\n",
    "\n",
    "print(model.predict([[250]]))"
   ]
  },
  {
   "cell_type": "code",
   "execution_count": null,
   "id": "02abadea",
   "metadata": {},
   "outputs": [],
   "source": []
  },
  {
   "cell_type": "code",
   "execution_count": null,
   "id": "21e877ea",
   "metadata": {},
   "outputs": [],
   "source": [
    "import pickle\n",
    "\n",
    "# Save the trained model\n",
    "pickle.dump(model, open('tv.sav', 'wb'))\n"
   ]
  }
 ],
 "metadata": {
  "kernelspec": {
   "display_name": "Python 3 (ipykernel)",
   "language": "python",
   "name": "python3"
  },
  "language_info": {
   "codemirror_mode": {
    "name": "ipython",
    "version": 3
   },
   "file_extension": ".py",
   "mimetype": "text/x-python",
   "name": "python",
   "nbconvert_exporter": "python",
   "pygments_lexer": "ipython3",
   "version": "3.11.2"
  }
 },
 "nbformat": 4,
 "nbformat_minor": 5
}
