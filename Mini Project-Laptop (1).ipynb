{
 "cells": [
  {
   "cell_type": "code",
   "execution_count": 4,
   "id": "0d58c574",
   "metadata": {},
   "outputs": [],
   "source": [
    "import pandas as pd\n",
    "import matplotlib.pyplot as plt\n",
    "from sklearn.linear_model import LinearRegression"
   ]
  },
  {
   "cell_type": "code",
   "execution_count": 5,
   "id": "982225b3",
   "metadata": {},
   "outputs": [
    {
     "data": {
      "text/html": [
       "<div>\n",
       "<style scoped>\n",
       "    .dataframe tbody tr th:only-of-type {\n",
       "        vertical-align: middle;\n",
       "    }\n",
       "\n",
       "    .dataframe tbody tr th {\n",
       "        vertical-align: top;\n",
       "    }\n",
       "\n",
       "    .dataframe thead th {\n",
       "        text-align: right;\n",
       "    }\n",
       "</style>\n",
       "<table border=\"1\" class=\"dataframe\">\n",
       "  <thead>\n",
       "    <tr style=\"text-align: right;\">\n",
       "      <th></th>\n",
       "      <th>Description</th>\n",
       "      <th>Days</th>\n",
       "      <th>Price</th>\n",
       "      <th>AvailableOn</th>\n",
       "      <th>Rating</th>\n",
       "      <th>Comment</th>\n",
       "    </tr>\n",
       "  </thead>\n",
       "  <tbody>\n",
       "    <tr>\n",
       "      <th>0</th>\n",
       "      <td>NVIDIA GeForce GTX 1650</td>\n",
       "      <td>1</td>\n",
       "      <td>54171</td>\n",
       "      <td>Flipkart</td>\n",
       "      <td>5</td>\n",
       "      <td>Here is my review on this laptop after using f...</td>\n",
       "    </tr>\n",
       "    <tr>\n",
       "      <th>1</th>\n",
       "      <td>15.6 inch Full HD Acer ComfyView LED Backlit T...</td>\n",
       "      <td>2</td>\n",
       "      <td>48303</td>\n",
       "      <td>Flipkart</td>\n",
       "      <td>3</td>\n",
       "      <td>So basically, laptop is well and good. But the...</td>\n",
       "    </tr>\n",
       "    <tr>\n",
       "      <th>2</th>\n",
       "      <td>Light Laptop without Optical Disk Drive</td>\n",
       "      <td>3</td>\n",
       "      <td>48852</td>\n",
       "      <td>Flipkart</td>\n",
       "      <td>5</td>\n",
       "      <td>Good Product, I am satisfied all of the featur...</td>\n",
       "    </tr>\n",
       "    <tr>\n",
       "      <th>3</th>\n",
       "      <td>Pre-installed Genuine Windows 10 OS</td>\n",
       "      <td>4</td>\n",
       "      <td>52352</td>\n",
       "      <td>Flipkart</td>\n",
       "      <td>4</td>\n",
       "      <td>Posting this review after 8 days of usePros: V...</td>\n",
       "    </tr>\n",
       "    <tr>\n",
       "      <th>4</th>\n",
       "      <td>NaN</td>\n",
       "      <td>5</td>\n",
       "      <td>50075</td>\n",
       "      <td>Amazon</td>\n",
       "      <td>5</td>\n",
       "      <td>Performance is good as I expect in this price ...</td>\n",
       "    </tr>\n",
       "    <tr>\n",
       "      <th>...</th>\n",
       "      <td>...</td>\n",
       "      <td>...</td>\n",
       "      <td>...</td>\n",
       "      <td>...</td>\n",
       "      <td>...</td>\n",
       "      <td>...</td>\n",
       "    </tr>\n",
       "    <tr>\n",
       "      <th>295</th>\n",
       "      <td>NaN</td>\n",
       "      <td>361</td>\n",
       "      <td>50056</td>\n",
       "      <td>Flipkart</td>\n",
       "      <td>4</td>\n",
       "      <td>I got it today and performance wise this is th...</td>\n",
       "    </tr>\n",
       "    <tr>\n",
       "      <th>296</th>\n",
       "      <td>NaN</td>\n",
       "      <td>362</td>\n",
       "      <td>50187</td>\n",
       "      <td>Flipkart</td>\n",
       "      <td>5</td>\n",
       "      <td>excellent performance in gaming</td>\n",
       "    </tr>\n",
       "    <tr>\n",
       "      <th>297</th>\n",
       "      <td>NaN</td>\n",
       "      <td>363</td>\n",
       "      <td>53544</td>\n",
       "      <td>Flipkart</td>\n",
       "      <td>5</td>\n",
       "      <td>Go for it.if you are searching for a budget fr...</td>\n",
       "    </tr>\n",
       "    <tr>\n",
       "      <th>298</th>\n",
       "      <td>NaN</td>\n",
       "      <td>364</td>\n",
       "      <td>52475</td>\n",
       "      <td>Amazon</td>\n",
       "      <td>4</td>\n",
       "      <td>I got it today and performance wise this is th...</td>\n",
       "    </tr>\n",
       "    <tr>\n",
       "      <th>299</th>\n",
       "      <td>NaN</td>\n",
       "      <td>365</td>\n",
       "      <td>52020</td>\n",
       "      <td>Amazon</td>\n",
       "      <td>1</td>\n",
       "      <td>I dont at all recommand buying laptop from thi...</td>\n",
       "    </tr>\n",
       "  </tbody>\n",
       "</table>\n",
       "<p>300 rows × 6 columns</p>\n",
       "</div>"
      ],
      "text/plain": [
       "                                           Description  Days  Price   \n",
       "0                              NVIDIA GeForce GTX 1650     1  54171  \\\n",
       "1    15.6 inch Full HD Acer ComfyView LED Backlit T...     2  48303   \n",
       "2              Light Laptop without Optical Disk Drive     3  48852   \n",
       "3                  Pre-installed Genuine Windows 10 OS     4  52352   \n",
       "4                                                  NaN     5  50075   \n",
       "..                                                 ...   ...    ...   \n",
       "295                                                NaN   361  50056   \n",
       "296                                                NaN   362  50187   \n",
       "297                                                NaN   363  53544   \n",
       "298                                                NaN   364  52475   \n",
       "299                                                NaN   365  52020   \n",
       "\n",
       "    AvailableOn  Rating                                            Comment  \n",
       "0      Flipkart       5  Here is my review on this laptop after using f...  \n",
       "1      Flipkart       3  So basically, laptop is well and good. But the...  \n",
       "2      Flipkart       5  Good Product, I am satisfied all of the featur...  \n",
       "3      Flipkart       4  Posting this review after 8 days of usePros: V...  \n",
       "4        Amazon       5  Performance is good as I expect in this price ...  \n",
       "..          ...     ...                                                ...  \n",
       "295    Flipkart       4  I got it today and performance wise this is th...  \n",
       "296    Flipkart       5                    excellent performance in gaming  \n",
       "297    Flipkart       5  Go for it.if you are searching for a budget fr...  \n",
       "298      Amazon       4  I got it today and performance wise this is th...  \n",
       "299      Amazon       1  I dont at all recommand buying laptop from thi...  \n",
       "\n",
       "[300 rows x 6 columns]"
      ]
     },
     "execution_count": 5,
     "metadata": {},
     "output_type": "execute_result"
    }
   ],
   "source": [
    "# Load the dataset\n",
    "df=pd.read_csv('E:\\Price_Predictorrr-main\\Price_Predictorrr-main\\laptop.csv')\n",
    "df"
   ]
  },
  {
   "cell_type": "code",
   "execution_count": 6,
   "id": "fc2b48bb",
   "metadata": {},
   "outputs": [],
   "source": [
    "# Prepare the data\n",
    "X = df['Days'].values.reshape(-1, 1)\n",
    "y = df['Price'].values.reshape(-1, 1)\n",
    "description = df['Description']\n",
    "rating = df['Rating']\n",
    "comment = df['Comment']\n",
    "available_on = df['AvailableOn']"
   ]
  },
  {
   "cell_type": "code",
   "execution_count": 7,
   "id": "c6ff419c",
   "metadata": {},
   "outputs": [],
   "source": [
    "# Create the linear regression model\n",
    "model = LinearRegression()"
   ]
  },
  {
   "cell_type": "code",
   "execution_count": 8,
   "id": "e2fcd1a1",
   "metadata": {},
   "outputs": [
    {
     "data": {
      "text/html": [
       "<style>#sk-container-id-1 {color: black;background-color: white;}#sk-container-id-1 pre{padding: 0;}#sk-container-id-1 div.sk-toggleable {background-color: white;}#sk-container-id-1 label.sk-toggleable__label {cursor: pointer;display: block;width: 100%;margin-bottom: 0;padding: 0.3em;box-sizing: border-box;text-align: center;}#sk-container-id-1 label.sk-toggleable__label-arrow:before {content: \"▸\";float: left;margin-right: 0.25em;color: #696969;}#sk-container-id-1 label.sk-toggleable__label-arrow:hover:before {color: black;}#sk-container-id-1 div.sk-estimator:hover label.sk-toggleable__label-arrow:before {color: black;}#sk-container-id-1 div.sk-toggleable__content {max-height: 0;max-width: 0;overflow: hidden;text-align: left;background-color: #f0f8ff;}#sk-container-id-1 div.sk-toggleable__content pre {margin: 0.2em;color: black;border-radius: 0.25em;background-color: #f0f8ff;}#sk-container-id-1 input.sk-toggleable__control:checked~div.sk-toggleable__content {max-height: 200px;max-width: 100%;overflow: auto;}#sk-container-id-1 input.sk-toggleable__control:checked~label.sk-toggleable__label-arrow:before {content: \"▾\";}#sk-container-id-1 div.sk-estimator input.sk-toggleable__control:checked~label.sk-toggleable__label {background-color: #d4ebff;}#sk-container-id-1 div.sk-label input.sk-toggleable__control:checked~label.sk-toggleable__label {background-color: #d4ebff;}#sk-container-id-1 input.sk-hidden--visually {border: 0;clip: rect(1px 1px 1px 1px);clip: rect(1px, 1px, 1px, 1px);height: 1px;margin: -1px;overflow: hidden;padding: 0;position: absolute;width: 1px;}#sk-container-id-1 div.sk-estimator {font-family: monospace;background-color: #f0f8ff;border: 1px dotted black;border-radius: 0.25em;box-sizing: border-box;margin-bottom: 0.5em;}#sk-container-id-1 div.sk-estimator:hover {background-color: #d4ebff;}#sk-container-id-1 div.sk-parallel-item::after {content: \"\";width: 100%;border-bottom: 1px solid gray;flex-grow: 1;}#sk-container-id-1 div.sk-label:hover label.sk-toggleable__label {background-color: #d4ebff;}#sk-container-id-1 div.sk-serial::before {content: \"\";position: absolute;border-left: 1px solid gray;box-sizing: border-box;top: 0;bottom: 0;left: 50%;z-index: 0;}#sk-container-id-1 div.sk-serial {display: flex;flex-direction: column;align-items: center;background-color: white;padding-right: 0.2em;padding-left: 0.2em;position: relative;}#sk-container-id-1 div.sk-item {position: relative;z-index: 1;}#sk-container-id-1 div.sk-parallel {display: flex;align-items: stretch;justify-content: center;background-color: white;position: relative;}#sk-container-id-1 div.sk-item::before, #sk-container-id-1 div.sk-parallel-item::before {content: \"\";position: absolute;border-left: 1px solid gray;box-sizing: border-box;top: 0;bottom: 0;left: 50%;z-index: -1;}#sk-container-id-1 div.sk-parallel-item {display: flex;flex-direction: column;z-index: 1;position: relative;background-color: white;}#sk-container-id-1 div.sk-parallel-item:first-child::after {align-self: flex-end;width: 50%;}#sk-container-id-1 div.sk-parallel-item:last-child::after {align-self: flex-start;width: 50%;}#sk-container-id-1 div.sk-parallel-item:only-child::after {width: 0;}#sk-container-id-1 div.sk-dashed-wrapped {border: 1px dashed gray;margin: 0 0.4em 0.5em 0.4em;box-sizing: border-box;padding-bottom: 0.4em;background-color: white;}#sk-container-id-1 div.sk-label label {font-family: monospace;font-weight: bold;display: inline-block;line-height: 1.2em;}#sk-container-id-1 div.sk-label-container {text-align: center;}#sk-container-id-1 div.sk-container {/* jupyter's `normalize.less` sets `[hidden] { display: none; }` but bootstrap.min.css set `[hidden] { display: none !important; }` so we also need the `!important` here to be able to override the default hidden behavior on the sphinx rendered scikit-learn.org. See: https://github.com/scikit-learn/scikit-learn/issues/21755 */display: inline-block !important;position: relative;}#sk-container-id-1 div.sk-text-repr-fallback {display: none;}</style><div id=\"sk-container-id-1\" class=\"sk-top-container\"><div class=\"sk-text-repr-fallback\"><pre>LinearRegression()</pre><b>In a Jupyter environment, please rerun this cell to show the HTML representation or trust the notebook. <br />On GitHub, the HTML representation is unable to render, please try loading this page with nbviewer.org.</b></div><div class=\"sk-container\" hidden><div class=\"sk-item\"><div class=\"sk-estimator sk-toggleable\"><input class=\"sk-toggleable__control sk-hidden--visually\" id=\"sk-estimator-id-1\" type=\"checkbox\" checked><label for=\"sk-estimator-id-1\" class=\"sk-toggleable__label sk-toggleable__label-arrow\">LinearRegression</label><div class=\"sk-toggleable__content\"><pre>LinearRegression()</pre></div></div></div></div></div>"
      ],
      "text/plain": [
       "LinearRegression()"
      ]
     },
     "execution_count": 8,
     "metadata": {},
     "output_type": "execute_result"
    }
   ],
   "source": [
    "# Fit the model to the data\n",
    "model.fit(X, y)"
   ]
  },
  {
   "cell_type": "code",
   "execution_count": 9,
   "id": "5038e2ff",
   "metadata": {},
   "outputs": [],
   "source": [
    "# Predict the prices for the given days\n",
    "predicted_prices = model.predict(X)"
   ]
  },
  {
   "cell_type": "code",
   "execution_count": 10,
   "id": "1b7f18a2",
   "metadata": {},
   "outputs": [
    {
     "name": "stdout",
     "output_type": "stream",
     "text": [
      "Best price: 48001 on day 214\n",
      "Description:  NVIDIA GeForce GTX 1650\n",
      "Review:  Battery performance is very low\n",
      "Rating:  1\n",
      "Available On:  Flipkart\n"
     ]
    }
   ],
   "source": [
    "# Find the best price and corresponding day\n",
    "best_price_index = y.argmin()\n",
    "best_day = X[best_price_index][0]\n",
    "best_price = y[best_price_index][0]\n",
    "best_description = description[best_price_index]\n",
    "best_available_on = available_on[best_price_index]\n",
    "\n",
    "# Check if the description is NaN, if so, fallback to the first line description\n",
    "if pd.isnull(best_description):\n",
    "    best_description = description.iloc[0]\n",
    "\n",
    "best_review = comment[best_price_index]\n",
    "best_rating = rating[best_price_index]\n",
    "\n",
    "print(\"Best price: {} on day {}\".format(best_price, best_day))\n",
    "print(\"Description: \", best_description)\n",
    "print(\"Review: \", best_review)\n",
    "print(\"Rating: \", best_rating)\n",
    "print(\"Available On: \", best_available_on)"
   ]
  },
  {
   "cell_type": "code",
   "execution_count": 11,
   "id": "dc3a1556",
   "metadata": {},
   "outputs": [
    {
     "data": {
      "image/png": "[encoded data removed]",
      "text/plain": [
       "<Figure size 800x600 with 1 Axes>"
      ]
     },
     "metadata": {},
     "output_type": "display_data"
    },
    {
     "name": "stdout",
     "output_type": "stream",
     "text": [
      "[[51490.71585535]]\n"
     ]
    }
   ],
   "source": [
    "# Plot the data and the predicted prices\n",
    "plt.figure(figsize=(8, 6))\n",
    "plt.scatter(X, y, label='Data')\n",
    "plt.plot(X, predicted_prices, color='red', label='Predictions')\n",
    "plt.ylim(0, 60000)\n",
    "plt.xlabel('Day')\n",
    "plt.ylabel('Price')\n",
    "plt.legend()\n",
    "plt.title('Price Prediction with Description and Reviews')\n",
    "plt.show()\n",
    "\n",
    "print(model.predict([[250]]))"
   ]
  },
  {
   "cell_type": "code",
   "execution_count": null,
   "id": "275639b7",
   "metadata": {},
   "outputs": [],
   "source": [
    "import pickle\n",
    "\n",
    "# Save the trained model\n",
    "pickle.dump(model, open('laptop.sav', 'wb'))\n"
   ]
  }
 ],
 "metadata": {
  "kernelspec": {
   "display_name": "Python 3 (ipykernel)",
   "language": "python",
   "name": "python3"
  },
  "language_info": {
   "codemirror_mode": {
    "name": "ipython",
    "version": 3
   },
   "file_extension": ".py",
   "mimetype": "text/x-python",
   "name": "python",
   "nbconvert_exporter": "python",
   "pygments_lexer": "ipython3",
   "version": "3.11.2"
  }
 },
 "nbformat": 4,
 "nbformat_minor": 5
}
