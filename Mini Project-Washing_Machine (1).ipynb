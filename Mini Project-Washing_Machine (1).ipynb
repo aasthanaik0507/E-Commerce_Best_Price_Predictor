{
 "cells": [
  {
   "cell_type": "code",
   "execution_count": 4,
   "id": "0d58c574",
   "metadata": {},
   "outputs": [],
   "source": [
    "import pandas as pd\n",
    "import matplotlib.pyplot as plt\n",
    "from sklearn.linear_model import LinearRegression"
   ]
  },
  {
   "cell_type": "code",
   "execution_count": 5,
   "id": "982225b3",
   "metadata": {},
   "outputs": [
    {
     "data": {
      "text/html": [
       "<div>\n",
       "<style scoped>\n",
       "    .dataframe tbody tr th:only-of-type {\n",
       "        vertical-align: middle;\n",
       "    }\n",
       "\n",
       "    .dataframe tbody tr th {\n",
       "        vertical-align: top;\n",
       "    }\n",
       "\n",
       "    .dataframe thead th {\n",
       "        text-align: right;\n",
       "    }\n",
       "</style>\n",
       "<table border=\"1\" class=\"dataframe\">\n",
       "  <thead>\n",
       "    <tr style=\"text-align: right;\">\n",
       "      <th></th>\n",
       "      <th>Description</th>\n",
       "      <th>Days</th>\n",
       "      <th>Price</th>\n",
       "      <th>AvailableOn</th>\n",
       "      <th>Rating</th>\n",
       "      <th>Comment</th>\n",
       "    </tr>\n",
       "  </thead>\n",
       "  <tbody>\n",
       "    <tr>\n",
       "      <th>0</th>\n",
       "      <td>Semi Automatic Top Load</td>\n",
       "      <td>1</td>\n",
       "      <td>9965</td>\n",
       "      <td>Amazon</td>\n",
       "      <td>4</td>\n",
       "      <td>I didn't got the same product as it's showing ...</td>\n",
       "    </tr>\n",
       "    <tr>\n",
       "      <th>1</th>\n",
       "      <td>1400 rpm : Higher the spin speed, lower the dr...</td>\n",
       "      <td>2</td>\n",
       "      <td>8340</td>\n",
       "      <td>Flipkart</td>\n",
       "      <td>5</td>\n",
       "      <td>I am writing this review after 1 month use of ...</td>\n",
       "    </tr>\n",
       "    <tr>\n",
       "      <th>2</th>\n",
       "      <td>Number of wash programs - 3</td>\n",
       "      <td>3</td>\n",
       "      <td>8523</td>\n",
       "      <td>Amazon</td>\n",
       "      <td>5</td>\n",
       "      <td>Semma super kandipa eallarum vagalam</td>\n",
       "    </tr>\n",
       "    <tr>\n",
       "      <th>3</th>\n",
       "      <td>5 Star Rating</td>\n",
       "      <td>4</td>\n",
       "      <td>9465</td>\n",
       "      <td>Amazon</td>\n",
       "      <td>4</td>\n",
       "      <td>Product is good and performing well.But check ...</td>\n",
       "    </tr>\n",
       "    <tr>\n",
       "      <th>4</th>\n",
       "      <td>7.5 kg</td>\n",
       "      <td>5</td>\n",
       "      <td>9215</td>\n",
       "      <td>Flipkart</td>\n",
       "      <td>5</td>\n",
       "      <td>Awesome product .Thanks Flipkart</td>\n",
       "    </tr>\n",
       "    <tr>\n",
       "      <th>...</th>\n",
       "      <td>...</td>\n",
       "      <td>...</td>\n",
       "      <td>...</td>\n",
       "      <td>...</td>\n",
       "      <td>...</td>\n",
       "      <td>...</td>\n",
       "    </tr>\n",
       "    <tr>\n",
       "      <th>360</th>\n",
       "      <td>NaN</td>\n",
       "      <td>361</td>\n",
       "      <td>9304</td>\n",
       "      <td>Amazon</td>\n",
       "      <td>5</td>\n",
       "      <td>very nice 👌👌</td>\n",
       "    </tr>\n",
       "    <tr>\n",
       "      <th>361</th>\n",
       "      <td>NaN</td>\n",
       "      <td>362</td>\n",
       "      <td>8060</td>\n",
       "      <td>Flipkart</td>\n",
       "      <td>1</td>\n",
       "      <td>Bluid quality is poor otherwise average</td>\n",
       "    </tr>\n",
       "    <tr>\n",
       "      <th>362</th>\n",
       "      <td>NaN</td>\n",
       "      <td>363</td>\n",
       "      <td>8471</td>\n",
       "      <td>Amazon</td>\n",
       "      <td>5</td>\n",
       "      <td>So nice</td>\n",
       "    </tr>\n",
       "    <tr>\n",
       "      <th>363</th>\n",
       "      <td>NaN</td>\n",
       "      <td>364</td>\n",
       "      <td>9922</td>\n",
       "      <td>Flipkart</td>\n",
       "      <td>4</td>\n",
       "      <td>Good quality value of money</td>\n",
       "    </tr>\n",
       "    <tr>\n",
       "      <th>364</th>\n",
       "      <td>NaN</td>\n",
       "      <td>365</td>\n",
       "      <td>9780</td>\n",
       "      <td>Flipkart</td>\n",
       "      <td>2</td>\n",
       "      <td>1. Switch panel can be exposed to water during...</td>\n",
       "    </tr>\n",
       "  </tbody>\n",
       "</table>\n",
       "<p>365 rows × 6 columns</p>\n",
       "</div>"
      ],
      "text/plain": [
       "                                           Description  Days  Price   \n",
       "0                              Semi Automatic Top Load     1   9965  \\\n",
       "1    1400 rpm : Higher the spin speed, lower the dr...     2   8340   \n",
       "2                          Number of wash programs - 3     3   8523   \n",
       "3                                        5 Star Rating     4   9465   \n",
       "4                                               7.5 kg     5   9215   \n",
       "..                                                 ...   ...    ...   \n",
       "360                                                NaN   361   9304   \n",
       "361                                                NaN   362   8060   \n",
       "362                                                NaN   363   8471   \n",
       "363                                                NaN   364   9922   \n",
       "364                                                NaN   365   9780   \n",
       "\n",
       "    AvailableOn  Rating                                            Comment  \n",
       "0        Amazon       4  I didn't got the same product as it's showing ...  \n",
       "1      Flipkart       5  I am writing this review after 1 month use of ...  \n",
       "2        Amazon       5               Semma super kandipa eallarum vagalam  \n",
       "3        Amazon       4  Product is good and performing well.But check ...  \n",
       "4      Flipkart       5                   Awesome product .Thanks Flipkart  \n",
       "..          ...     ...                                                ...  \n",
       "360      Amazon       5                                       very nice 👌👌  \n",
       "361    Flipkart       1            Bluid quality is poor otherwise average  \n",
       "362      Amazon       5                                            So nice  \n",
       "363    Flipkart       4                        Good quality value of money  \n",
       "364    Flipkart       2  1. Switch panel can be exposed to water during...  \n",
       "\n",
       "[365 rows x 6 columns]"
      ]
     },
     "execution_count": 5,
     "metadata": {},
     "output_type": "execute_result"
    }
   ],
   "source": [
    "# Load the dataset\n",
    "df=pd.read_csv('E:\\Price_Predictorrr-main\\Price_Predictorrr-main\\washingmachine.csv')\n",
    "df"
   ]
  },
  {
   "cell_type": "code",
   "execution_count": 6,
   "id": "fc2b48bb",
   "metadata": {},
   "outputs": [],
   "source": [
    "# Prepare the data\n",
    "X = df['Days'].values.reshape(-1, 1)\n",
    "y = df['Price'].values.reshape(-1, 1)\n",
    "description = df['Description']\n",
    "rating = df['Rating']\n",
    "comment = df['Comment']\n",
    "available_on = df['AvailableOn']"
   ]
  },
  {
   "cell_type": "code",
   "execution_count": 7,
   "id": "c6ff419c",
   "metadata": {},
   "outputs": [],
   "source": [
    "# Create the linear regression model\n",
    "model = LinearRegression()"
   ]
  },
  {
   "cell_type": "code",
   "execution_count": 8,
   "id": "e2fcd1a1",
   "metadata": {},
   "outputs": [
    {
     "data": {
      "text/html": [
       "<style>#sk-container-id-1 {color: black;background-color: white;}#sk-container-id-1 pre{padding: 0;}#sk-container-id-1 div.sk-toggleable {background-color: white;}#sk-container-id-1 label.sk-toggleable__label {cursor: pointer;display: block;width: 100%;margin-bottom: 0;padding: 0.3em;box-sizing: border-box;text-align: center;}#sk-container-id-1 label.sk-toggleable__label-arrow:before {content: \"▸\";float: left;margin-right: 0.25em;color: #696969;}#sk-container-id-1 label.sk-toggleable__label-arrow:hover:before {color: black;}#sk-container-id-1 div.sk-estimator:hover label.sk-toggleable__label-arrow:before {color: black;}#sk-container-id-1 div.sk-toggleable__content {max-height: 0;max-width: 0;overflow: hidden;text-align: left;background-color: #f0f8ff;}#sk-container-id-1 div.sk-toggleable__content pre {margin: 0.2em;color: black;border-radius: 0.25em;background-color: #f0f8ff;}#sk-container-id-1 input.sk-toggleable__control:checked~div.sk-toggleable__content {max-height: 200px;max-width: 100%;overflow: auto;}#sk-container-id-1 input.sk-toggleable__control:checked~label.sk-toggleable__label-arrow:before {content: \"▾\";}#sk-container-id-1 div.sk-estimator input.sk-toggleable__control:checked~label.sk-toggleable__label {background-color: #d4ebff;}#sk-container-id-1 div.sk-label input.sk-toggleable__control:checked~label.sk-toggleable__label {background-color: #d4ebff;}#sk-container-id-1 input.sk-hidden--visually {border: 0;clip: rect(1px 1px 1px 1px);clip: rect(1px, 1px, 1px, 1px);height: 1px;margin: -1px;overflow: hidden;padding: 0;position: absolute;width: 1px;}#sk-container-id-1 div.sk-estimator {font-family: monospace;background-color: #f0f8ff;border: 1px dotted black;border-radius: 0.25em;box-sizing: border-box;margin-bottom: 0.5em;}#sk-container-id-1 div.sk-estimator:hover {background-color: #d4ebff;}#sk-container-id-1 div.sk-parallel-item::after {content: \"\";width: 100%;border-bottom: 1px solid gray;flex-grow: 1;}#sk-container-id-1 div.sk-label:hover label.sk-toggleable__label {background-color: #d4ebff;}#sk-container-id-1 div.sk-serial::before {content: \"\";position: absolute;border-left: 1px solid gray;box-sizing: border-box;top: 0;bottom: 0;left: 50%;z-index: 0;}#sk-container-id-1 div.sk-serial {display: flex;flex-direction: column;align-items: center;background-color: white;padding-right: 0.2em;padding-left: 0.2em;position: relative;}#sk-container-id-1 div.sk-item {position: relative;z-index: 1;}#sk-container-id-1 div.sk-parallel {display: flex;align-items: stretch;justify-content: center;background-color: white;position: relative;}#sk-container-id-1 div.sk-item::before, #sk-container-id-1 div.sk-parallel-item::before {content: \"\";position: absolute;border-left: 1px solid gray;box-sizing: border-box;top: 0;bottom: 0;left: 50%;z-index: -1;}#sk-container-id-1 div.sk-parallel-item {display: flex;flex-direction: column;z-index: 1;position: relative;background-color: white;}#sk-container-id-1 div.sk-parallel-item:first-child::after {align-self: flex-end;width: 50%;}#sk-container-id-1 div.sk-parallel-item:last-child::after {align-self: flex-start;width: 50%;}#sk-container-id-1 div.sk-parallel-item:only-child::after {width: 0;}#sk-container-id-1 div.sk-dashed-wrapped {border: 1px dashed gray;margin: 0 0.4em 0.5em 0.4em;box-sizing: border-box;padding-bottom: 0.4em;background-color: white;}#sk-container-id-1 div.sk-label label {font-family: monospace;font-weight: bold;display: inline-block;line-height: 1.2em;}#sk-container-id-1 div.sk-label-container {text-align: center;}#sk-container-id-1 div.sk-container {/* jupyter's `normalize.less` sets `[hidden] { display: none; }` but bootstrap.min.css set `[hidden] { display: none !important; }` so we also need the `!important` here to be able to override the default hidden behavior on the sphinx rendered scikit-learn.org. See: https://github.com/scikit-learn/scikit-learn/issues/21755 */display: inline-block !important;position: relative;}#sk-container-id-1 div.sk-text-repr-fallback {display: none;}</style><div id=\"sk-container-id-1\" class=\"sk-top-container\"><div class=\"sk-text-repr-fallback\"><pre>LinearRegression()</pre><b>In a Jupyter environment, please rerun this cell to show the HTML representation or trust the notebook. <br />On GitHub, the HTML representation is unable to render, please try loading this page with nbviewer.org.</b></div><div class=\"sk-container\" hidden><div class=\"sk-item\"><div class=\"sk-estimator sk-toggleable\"><input class=\"sk-toggleable__control sk-hidden--visually\" id=\"sk-estimator-id-1\" type=\"checkbox\" checked><label for=\"sk-estimator-id-1\" class=\"sk-toggleable__label sk-toggleable__label-arrow\">LinearRegression</label><div class=\"sk-toggleable__content\"><pre>LinearRegression()</pre></div></div></div></div></div>"
      ],
      "text/plain": [
       "LinearRegression()"
      ]
     },
     "execution_count": 8,
     "metadata": {},
     "output_type": "execute_result"
    }
   ],
   "source": [
    "# Fit the model to the data\n",
    "model.fit(X, y)"
   ]
  },
  {
   "cell_type": "code",
   "execution_count": null,
   "id": "b0efb497",
   "metadata": {},
   "outputs": [],
   "source": []
  },
  {
   "cell_type": "code",
   "execution_count": 9,
   "id": "5038e2ff",
   "metadata": {},
   "outputs": [],
   "source": [
    "# Predict the prices for the given days\n",
    "predicted_prices = model.predict(X)"
   ]
  },
  {
   "cell_type": "code",
   "execution_count": 10,
   "id": "83cd87dc",
   "metadata": {},
   "outputs": [
    {
     "name": "stdout",
     "output_type": "stream",
     "text": [
      "Best price: 8000 on day 184\n",
      "Description:  Semi Automatic Top Load\n",
      "Review:  Very good product quality is good\n",
      "Rating:  5\n",
      "Available On:  Flipkart\n"
     ]
    }
   ],
   "source": [
    "# Find the best price and corresponding day\n",
    "best_price_index = y.argmin()\n",
    "best_day = X[best_price_index][0]\n",
    "best_price = y[best_price_index][0]\n",
    "best_description = description[best_price_index]\n",
    "best_available_on = available_on[best_price_index]\n",
    "\n",
    "# Check if the description is NaN, if so, fallback to the first line description\n",
    "if pd.isnull(best_description):\n",
    "    best_description = description.iloc[0]\n",
    "\n",
    "best_review = comment[best_price_index]\n",
    "best_rating = rating[best_price_index]\n",
    "\n",
    "print(\"Best price: {} on day {}\".format(best_price, best_day))\n",
    "print(\"Description: \", best_description)\n",
    "print(\"Review: \", best_review)\n",
    "print(\"Rating: \", best_rating)\n",
    "print(\"Available On: \", best_available_on)"
   ]
  },
  {
   "cell_type": "code",
   "execution_count": 11,
   "id": "dc3a1556",
   "metadata": {},
   "outputs": [
    {
     "data": {
      "image/png": "[encoded data removed]",
      "text/plain": [
       "<Figure size 800x600 with 1 Axes>"
      ]
     },
     "metadata": {},
     "output_type": "display_data"
    },
    {
     "name": "stdout",
     "output_type": "stream",
     "text": [
      "[[9032.32189412]]\n"
     ]
    }
   ],
   "source": [
    "# Plot the data and the predicted prices\n",
    "plt.figure(figsize=(8, 6))\n",
    "plt.scatter(X, y, label='Data')\n",
    "plt.plot(X, predicted_prices, color='red', label='Predictions')\n",
    "plt.ylim(0, 60000)\n",
    "plt.xlabel('Day')\n",
    "plt.ylabel('Price')\n",
    "plt.legend()\n",
    "plt.title('Price Prediction with Description and Reviews')\n",
    "plt.show()\n",
    "\n",
    "print(model.predict([[250]]))"
   ]
  },
  {
   "cell_type": "code",
   "execution_count": 12,
   "id": "d3ac21d4",
   "metadata": {},
   "outputs": [],
   "source": [
    "import pickle\n",
    "\n",
    "# Save the trained model\n",
    "pickle.dump(model, open('washingmachine.sav', 'wb'))\n"
   ]
  }
 ],
 "metadata": {
  "kernelspec": {
   "display_name": "Python 3 (ipykernel)",
   "language": "python",
   "name": "python3"
  },
  "language_info": {
   "codemirror_mode": {
    "name": "ipython",
    "version": 3
   },
   "file_extension": ".py",
   "mimetype": "text/x-python",
   "name": "python",
   "nbconvert_exporter": "python",
   "pygments_lexer": "ipython3",
   "version": "3.11.2"
  }
 },
 "nbformat": 4,
 "nbformat_minor": 5
}
